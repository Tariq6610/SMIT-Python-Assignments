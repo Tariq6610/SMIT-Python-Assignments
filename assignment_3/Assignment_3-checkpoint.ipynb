{
 "cells": [
  {
   "cell_type": "markdown",
   "id": "e97b70bc-85df-40a1-9537-f71e034ac634",
   "metadata": {},
   "source": [
    "## Write a Python program that:\n",
    "\n",
    "Accepts a comma-separated string of numbers from the user (e.g., \"1,2,3,4,5\").\n",
    "Typecasts the input string into a list of integers.\n",
    "Print the resulting list of integers.\n",
    "Example Input:\n",
    "\"10,20,30,40,50\" or \n",
    "[10, 20, 30, 40, 50]\n"
   ]
  },
  {
   "cell_type": "code",
   "execution_count": 4,
   "id": "ddead697-b887-460f-94c6-c17be97675aa",
   "metadata": {},
   "outputs": [
    {
     "name": "stdout",
     "output_type": "stream",
     "text": [
      "invalid number: 'a', please provide valid numbers\n",
      "invalid number: 's', please provide valid numbers\n",
      "[]\n"
     ]
    }
   ],
   "source": [
    "user_inp = input(\"write comma separated numbers\")\n",
    "make_list = user_inp.split(\",\")\n",
    "new_list = []\n",
    "for num in make_list:\n",
    "    try:\n",
    "        new_list.append(int(num))\n",
    "    except:\n",
    "        print(f\"invalid number: '{num}', please provide valid numbers\")\n",
    "\n",
    "print(new_list)\n"
   ]
  },
  {
   "cell_type": "markdown",
   "id": "6bd54ab7-060f-4207-a5ce-abc140e3c796",
   "metadata": {},
   "source": [
    "## Write a Python program that user to enter 5 different names (e.g., \"Alice, Bob, Charlie, David, Eve\").\n",
    "Stores these names in a list and prints the list.\n",
    "Then, ask the user for a number and print the name at that index of the list. \n",
    "\n",
    "Example Input\n",
    "\n",
    "\"Alice, Bob, Charlie, David, Eve\"\n",
    "Enter an index: 2\n",
    "\n",
    "\n",
    "Example Output:\n",
    "\n",
    "\n",
    "List: ['Alice', 'Bob', 'Charlie', 'David', 'Eve']\n",
    "Name at index 2: Charlie\n"
   ]
  },
  {
   "cell_type": "code",
   "execution_count": 37,
   "id": "a59a34a4-72cf-4b40-9131-702388e668ed",
   "metadata": {},
   "outputs": [
    {
     "name": "stdout",
     "output_type": "stream",
     "text": [
      "write name tariq\n",
      "write name waleed\n",
      "write name hasan\n",
      "write name saad\n",
      "write name khan\n"
     ]
    },
    {
     "name": "stdout",
     "output_type": "stream",
     "text": [
      "['tariq', 'waleed', 'hasan', 'saad', 'khan']\n"
     ]
    },
    {
     "name": "stdout",
     "output_type": "stream",
     "text": [
      "write the number of name 3\n"
     ]
    },
    {
     "name": "stdout",
     "output_type": "stream",
     "text": [
      "hasan\n"
     ]
    }
   ],
   "source": [
    "names = []\n",
    "for i in range(5):\n",
    "    get_name = input(\"write name\")\n",
    "    names.append(get_name)\n",
    "print(names)\n",
    "get_index = int(input(\"write the number of name\"))\n",
    "print(names[get_index - 1])"
   ]
  },
  {
   "cell_type": "markdown",
   "id": "b74c2e00-ed01-446f-af03-5e32ec46944f",
   "metadata": {},
   "source": [
    "## Write a Python program that takes an integer input from the user and checks whether the number is:\n",
    "\n",
    "* Positive\n",
    "\n",
    "* Negative\n",
    "\n",
    "* Zero"
   ]
  },
  {
   "cell_type": "code",
   "execution_count": 51,
   "id": "e6ee9b4c-0966-4bc9-8b3c-7a6d8c66e4e4",
   "metadata": {},
   "outputs": [
    {
     "name": "stdout",
     "output_type": "stream",
     "text": [
      "write a number -0.1\n"
     ]
    },
    {
     "name": "stdout",
     "output_type": "stream",
     "text": [
      "the number i.e -0.1 is negative\n"
     ]
    }
   ],
   "source": [
    "number = float(input(\"write a number\"))\n",
    "if number > 0:\n",
    "    print(f\"the number i.e {number} is positive\")\n",
    "elif number < 0:\n",
    "    print(f\"the number i.e {number} is negative\")\n",
    "else:\n",
    "    print(f\"the number i.e {number} is Zero\")"
   ]
  },
  {
   "cell_type": "markdown",
   "id": "a36e94fe-20e0-4227-abd8-cbd7ca532f51",
   "metadata": {},
   "source": [
    "## Create a Python program that takes a user's age as input and categorizes them into one of the following age groups:\n",
    "\n",
    "* Child (0-12)\n",
    "* Teen (13-19)\n",
    "* Adult (20-64)\n",
    "* Senior (65+)\n",
    "\n",
    "Print the corresponding category based on the user's age."
   ]
  },
  {
   "cell_type": "code",
   "execution_count": 69,
   "id": "0a58d305-0dc2-4363-a420-1cacdd4c2c0b",
   "metadata": {},
   "outputs": [
    {
     "name": "stdout",
     "output_type": "stream",
     "text": [
      "write the age 8\n"
     ]
    },
    {
     "name": "stdout",
     "output_type": "stream",
     "text": [
      "Child\n"
     ]
    }
   ],
   "source": [
    "age = float(input(\"write the age\"))\n",
    "if age > 65:\n",
    "    print(\"Senior\")\n",
    "elif age >= 20:\n",
    "    print(\"Adult\")\n",
    "elif age >= 13:\n",
    "    print(\"Teen\")\n",
    "elif age > 0:\n",
    "    print(\"Child\")"
   ]
  },
  {
   "cell_type": "markdown",
   "id": "13fb3a6c-ba33-41ef-8b6f-85cd454cc909",
   "metadata": {},
   "source": [
    "## Write a program that asks the user for their name and age, and prints out a message such as: \"Hello [name], you are [age] years old."
   ]
  },
  {
   "cell_type": "code",
   "execution_count": 3,
   "id": "2ba6dab2-6064-450d-b44d-21a67f6767f6",
   "metadata": {},
   "outputs": [
    {
     "name": "stdout",
     "output_type": "stream",
     "text": [
      "what is your name tariq\n",
      "what is your age 24\n"
     ]
    },
    {
     "name": "stdout",
     "output_type": "stream",
     "text": [
      "Hello tariq with age 24\n"
     ]
    }
   ],
   "source": [
    "get_name = input(\"what is your name\")\n",
    "get_age = input(\"what is your age\")\n",
    "\n",
    "print(f\"Hello {get_name} with age {get_age}\")"
   ]
  },
  {
   "cell_type": "markdown",
   "id": "753e9996-d137-4577-b8d8-39c697ae51e5",
   "metadata": {},
   "source": [
    "## Write a Python program that demonstrates the use of arithmetic operators (+, -, *, /, %, //, **). Provide examples of each operator, such as:\n",
    "\n",
    "* Addition of two numbers.\n",
    "* Division of two numbers (including floor division).\n",
    "* Exponentiation (power).\n",
    "* Modulus to find the remainder"
   ]
  },
  {
   "cell_type": "code",
   "execution_count": 11,
   "id": "3fa94f04",
   "metadata": {},
   "outputs": [
    {
     "name": "stdout",
     "output_type": "stream",
     "text": [
      "1\n",
      "1\n",
      "3.3333333333333335\n",
      "3\n"
     ]
    }
   ],
   "source": [
    "while True:\n",
    "    a = input(\"write first number, or write 'q' to quit\")\n",
    "    if a == \"q\":\n",
    "        break\n",
    "    \n",
    "    b = input(\"write second number, or write 'q' to quit\")\n",
    "    if b == \"q\":\n",
    "        break\n",
    "\n",
    "    operator = input(\"write opearator, or write 'q' to quit\")\n",
    "    if operator == \"q\":\n",
    "        break\n",
    "    elif operator == \"+\":\n",
    "        print(int(a) + int(b))\n",
    "    elif operator == \"-\":\n",
    "        print(int(a)-int(b)) \n",
    "    elif operator == \"*\":\n",
    "        print(int(a) * int(b))\n",
    "    elif operator == \"/\":\n",
    "        print(int(a) / int(b))\n",
    "    elif operator == \"//\":\n",
    "        print(int(a) // int(b))\n",
    "    elif operator == \"%\":\n",
    "        print(int(a) % int(b))\n",
    "    else:\n",
    "        print(\"invaid operator\")"
   ]
  },
  {
   "cell_type": "markdown",
   "id": "1870c517-0e30-4bb0-a46a-8cbabc77e0c3",
   "metadata": {},
   "source": [
    "## Create a Program to Reverse a String"
   ]
  },
  {
   "cell_type": "code",
   "execution_count": 50,
   "id": "9c3e955a-d1c6-433e-a478-37cd1d9d0f6f",
   "metadata": {},
   "outputs": [
    {
     "name": "stdout",
     "output_type": "stream",
     "text": [
      "olleH\n"
     ]
    }
   ],
   "source": [
    "str = \"Hello\"\n",
    "reversed_str = str[::-1]\n",
    "print(reversed_str)"
   ]
  },
  {
   "cell_type": "markdown",
   "id": "6f5a5402-580d-4ccc-98cf-96864dd0ee52",
   "metadata": {},
   "source": [
    "## Write a program that takes a list of numbers as input from the user and sorts the list in ascending order. Print the sorted list after the operation."
   ]
  },
  {
   "cell_type": "code",
   "execution_count": 68,
   "id": "535fb5e3-2f46-4167-ae9e-7a4aaa379f97",
   "metadata": {},
   "outputs": [
    {
     "name": "stdout",
     "output_type": "stream",
     "text": [
      "write you'r 1 number 2\n",
      "write you'r 2 number 3\n",
      "write you'r 3 number 45\n",
      "write you'r 4 number 6\n",
      "write you'r 5 number 7\n"
     ]
    },
    {
     "name": "stdout",
     "output_type": "stream",
     "text": [
      "orgial list : [2, 3, 6, 7, 45]\n",
      "new sorted list : [2, 3, 6, 7, 45]\n"
     ]
    }
   ],
   "source": [
    "lst = []\n",
    "for i in range(5):\n",
    "    num = int(input(f\"write you'r {i + 1} number\"))\n",
    "    lst.append(num)\n",
    "# sort original list\n",
    "lst.sort()\n",
    "\n",
    "# create new sorted list\n",
    "sorted_lst = sorted(lst)\n",
    "\n",
    "print(f\"orgial list : {lst}\\nnew sorted list : {sorted_lst}\")\n",
    "    \n",
    "    "
   ]
  },
  {
   "cell_type": "markdown",
   "id": "68ec045f-fe59-4e3b-92d5-ae4bcc6ec39c",
   "metadata": {},
   "source": [
    "## Write a program that asks the user for the price of a product and calculates the discount. If the price is greater than 100, give a 20% discount; otherwise, give a 10% discount. Print the discounted price using if-else statements."
   ]
  },
  {
   "cell_type": "code",
   "execution_count": 7,
   "id": "e19c45c9-0200-4d9a-8c02-a0406e50a5f7",
   "metadata": {},
   "outputs": [
    {
     "name": "stdout",
     "output_type": "stream",
     "text": [
      "write the price 120\n"
     ]
    },
    {
     "name": "stdout",
     "output_type": "stream",
     "text": [
      "Total discounted price 96.0\n"
     ]
    }
   ],
   "source": [
    "price = int(input(\"write the price\"))\n",
    "discount = 0\n",
    "if price > 100:\n",
    "    discount = price * 20/100\n",
    "else:\n",
    "    discount = price * 10/100\n",
    "total = price - discount\n",
    "print(f\"Total discounted price {total}\")"
   ]
  },
  {
   "cell_type": "markdown",
   "id": "25226917-1c9a-4d49-bb5a-edd4cae014ad",
   "metadata": {},
   "source": [
    "## Write a Python program that takes a number (1-7) as input from the user, and prints the corresponding day of the week:\n",
    "\n",
    "* 1: Monday\n",
    "* 2: Tuesday\n",
    "* 3: Wednesday\n",
    "* 4: Thursday\n",
    "* 5: Friday\n",
    "* 6: Saturday\n",
    "* 7: Sunday"
   ]
  },
  {
   "cell_type": "code",
   "execution_count": 13,
   "id": "b1062227-64b2-41c5-8db0-1b7aaf0269b8",
   "metadata": {},
   "outputs": [
    {
     "name": "stdout",
     "output_type": "stream",
     "text": [
      "write number of day 5\n"
     ]
    },
    {
     "name": "stdout",
     "output_type": "stream",
     "text": [
      "your selected day of week is Friday\n"
     ]
    }
   ],
   "source": [
    "get_number = int(input(\"write number of day\"))\n",
    "days = [\"Monday\", \"Tuesday\", \"Wednesday\", \"thirsday\", \"Friday\", \"Saturday\", \"Sanday\"]\n",
    "print(f\"your selected day of week is {days[get_number - 1]}\")"
   ]
  },
  {
   "cell_type": "markdown",
   "id": "81c12b61-6330-49ae-bf1d-bbead6dc1729",
   "metadata": {},
   "source": [
    "## Write a program that asks the user for the weight of a package and calculates the shipping charges based on the following conditions:\n",
    "\n",
    "\n",
    "* If the weight is less than 1kg, the shipping cost is $5.\n",
    "  \n",
    "* If the weight is between 1kg and 5kg, the shipping cost is $10.\n",
    "\n",
    "  \n",
    "* If the weight is between 5kg and 10kg, the shipping cost is $15.\n",
    "\n",
    "  \n",
    "* If the weight is greater than 10kg, the shipping cost is $20."
   ]
  },
  {
   "cell_type": "code",
   "execution_count": 19,
   "id": "69207c42-7e00-4a9d-806c-6167759e75a6",
   "metadata": {},
   "outputs": [
    {
     "name": "stdout",
     "output_type": "stream",
     "text": [
      "write weight of your package 10\n"
     ]
    },
    {
     "name": "stdout",
     "output_type": "stream",
     "text": [
      "Your shipping cost according to you'r weight is $15\n"
     ]
    }
   ],
   "source": [
    "get_weight = float(input(\"write weight of your package\"))\n",
    "if get_weight > 10:\n",
    "    cost = 20\n",
    "elif get_weight > 5:\n",
    "    cost = 15\n",
    "elif get_weight > 1:\n",
    "    cost = 10\n",
    "elif get_weight < 1:\n",
    "    cost = 5\n",
    "\n",
    "print(f\"Your shipping cost according to you'r weight is ${cost}\")\n",
    "    "
   ]
  },
  {
   "cell_type": "markdown",
   "id": "f611a172-86d9-4fc8-9032-865be4866ec5",
   "metadata": {},
   "source": [
    "## Write a Python program that asks the user for a single character and checks:\n",
    "\n",
    "* If the character is either a vowel (a, e, i, o, u) or a consonant (any alphabet letter other than a vowel).\n",
    "Print \"Vowel\" if it is a vowel.\n",
    " \n",
    " Print \"Invalid character\" if it is neither."
   ]
  },
  {
   "cell_type": "code",
   "execution_count": 35,
   "id": "85e9e038-4a65-4943-b992-9f5c4e9db3c0",
   "metadata": {},
   "outputs": [
    {
     "name": "stdout",
     "output_type": "stream",
     "text": [
      "write the character =\n"
     ]
    },
    {
     "name": "stdout",
     "output_type": "stream",
     "text": [
      "invalid character\n"
     ]
    }
   ],
   "source": [
    "get_alphabet = input(\"write the character\")\n",
    "vowels = [\"a\", \"e\", \"i\", \"o\", \"u\"]\n",
    "if get_alphabet.isalpha():\n",
    "    if get_alphabet.lower() in vowels:\n",
    "        print(\"Vowel\")\n",
    "    else:\n",
    "        print(\"Consonet\")\n",
    "else:\n",
    "    print(\"invalid character\")\n",
    "    "
   ]
  },
  {
   "cell_type": "markdown",
   "id": "e96d0352-d6ce-4930-b1c0-0db377f67800",
   "metadata": {},
   "source": [
    "## Write a Python program that asks the student’s grade. The program should check:\n",
    "\n",
    "* If the grade is greater than or equal to 90 and less than or equal to 100, print \"Top 5 Student\".\n",
    "* If the grade is greater than or equal to 80 and less than 90, print \"Top 10 Student\".\n",
    "* Otherwise, print \"Not in Top 10\"."
   ]
  },
  {
   "cell_type": "code",
   "execution_count": 85,
   "id": "338da3ba-b6dc-48e4-96a6-a4b56bbe07a9",
   "metadata": {},
   "outputs": [
    {
     "name": "stdout",
     "output_type": "stream",
     "text": [
      "Write you'r grade -2\n"
     ]
    },
    {
     "name": "stdout",
     "output_type": "stream",
     "text": [
      "Invaid grade\n"
     ]
    }
   ],
   "source": [
    "grade = float(input(\"Write your grade\"))\n",
    "if 0 <= grade <= 100:\n",
    "    if grade >= 90:\n",
    "        print(\"Top 5 student\")\n",
    "    elif grade >= 80:\n",
    "        print(\"Top 10 student\")\n",
    "    else:\n",
    "        print(\"Not in Top 10\")\n",
    "else:\n",
    "    print(\"Invaid grade\")\n"
   ]
  },
  {
   "cell_type": "markdown",
   "id": "b935421a-02a1-4aaa-96bf-06aa1fd4ef2e",
   "metadata": {},
   "source": [
    "## Write a Python program that checks if a student passed based on the following conditions:\n",
    "\n",
    "* If the marks are greater than or equal to 50, check\n",
    "  * if the attendance is 75% or more:\n",
    "  \n",
    "  * If attendance is 75% or more, print \"Passed\".\n",
    "\n",
    "  * If attendance is less than 75%, print \"Failed due to low attendance\".\n",
    "* If the marks are less than 50, print \"Failed due to low marks\"."
   ]
  },
  {
   "cell_type": "code",
   "execution_count": 111,
   "id": "f30bf6d5-6911-4343-a7b0-c3240cbe5b7c",
   "metadata": {},
   "outputs": [
    {
     "name": "stdout",
     "output_type": "stream",
     "text": [
      "write marks 49\n"
     ]
    },
    {
     "name": "stdout",
     "output_type": "stream",
     "text": [
      "Failed due to low marks\n"
     ]
    }
   ],
   "source": [
    "marks = float(input(\"write marks\"))\n",
    "if 0 <= marks <= 100:\n",
    "    if marks >= 50:\n",
    "        attendance = float(input(\"write attendance\"))\n",
    "        if 0 <= attendance <= 100:\n",
    "            if attendance >= 75:\n",
    "                print(\"Passed\")\n",
    "            else:\n",
    "                print(\"Failed due to low attendance\")\n",
    "        else:\n",
    "            print(f\"'{attendance}' invalid attendance\")\n",
    "    else:\n",
    "        print(\"Failed due to low marks\")\n",
    "else:\n",
    "    print(f\"'{marks}' invalid marks\")"
   ]
  },
  {
   "cell_type": "markdown",
   "id": "7a98211b-92fb-447f-a877-0a657a30a1cc",
   "metadata": {},
   "source": [
    "## Write a Python program that checks if a person is eligible for a loan:\n",
    "\n",
    "* If the person’s credit score is above 700, check if their income is above $50,000:\n",
    "    * If true, print \"Loan Approved\".\n",
    "    * If false, print \"Loan Denied due to low income\".\n",
    "* If the credit score is below 700, print \"Loan Denied due to low credit score"
   ]
  },
  {
   "cell_type": "code",
   "execution_count": 117,
   "id": "41851db1-51fb-4ccf-8963-fa13caab4abf",
   "metadata": {},
   "outputs": [
    {
     "name": "stdout",
     "output_type": "stream",
     "text": [
      "write your credit score 800\n",
      "write your income 55000\n"
     ]
    },
    {
     "name": "stdout",
     "output_type": "stream",
     "text": [
      "Loan Approved\n"
     ]
    }
   ],
   "source": [
    "credit_score = float(input(\"write your credit score\"))\n",
    "if credit_score > 700:\n",
    "    income = float(input(\"write your income\"))\n",
    "    if income > 50000:\n",
    "        print(\"Loan Approved\")\n",
    "    else:\n",
    "        print(\"Loan denied due to low income\")\n",
    "else:\n",
    "    print(\"Loan denied due to Low credit score\")"
   ]
  }
 ],
 "metadata": {
  "kernelspec": {
   "display_name": "base",
   "language": "python",
   "name": "python3"
  },
  "language_info": {
   "codemirror_mode": {
    "name": "ipython",
    "version": 3
   },
   "file_extension": ".py",
   "mimetype": "text/x-python",
   "name": "python",
   "nbconvert_exporter": "python",
   "pygments_lexer": "ipython3",
   "version": "3.12.7"
  }
 },
 "nbformat": 4,
 "nbformat_minor": 5
}
